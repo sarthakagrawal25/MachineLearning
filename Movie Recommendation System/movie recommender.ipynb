{
 "cells": [
  {
   "cell_type": "code",
   "execution_count": 1,
   "id": "27220b42",
   "metadata": {},
   "outputs": [],
   "source": [
    "import pandas as pd\n",
    "import warnings\n",
    "import tkinter as tk\n",
    "warnings.filterwarnings('ignore')\n"
   ]
  },
  {
   "cell_type": "code",
   "execution_count": 26,
   "id": "156a0f61",
   "metadata": {},
   "outputs": [],
   "source": [
    "column_names = ['user_id','item_id','rating','timestamp']\n",
    "df = pd.read_csv('u.data',sep='\\t',names=column_names)\n",
    "df1 = pd.read_csv('movies.csv')\n",
    "df1 = df1.rename({'movieId':'item_id'},axis=1)\n",
    "df = pd.merge(df,df1,on='item_id')\n",
    "ratings = pd.DataFrame(df.groupby('title')['rating'].mean())\n",
    "ratings['num of ratings'] = pd.DataFrame(df.groupby('title')['rating'].count())\n",
    "moviemat = df.pivot_table(index='user_id',columns='title',values='rating')\n",
    "\n",
    "app = tk.Tk()\n",
    "app.title('Recommendation system')\n",
    "app.geometry('350x200')\n",
    "tk.Label(app,text='Movie you watched').place(x=25,y=25)\n",
    "tk.Label(app,text='Recommended:').place(x=25,y=100)\n",
    "tk.Label(app,text='Also try:').place(x=25,y=125)\n",
    "\n",
    "movie_var = tk.Variable(app)\n",
    "tk.Entry(app,textvariable=movie_var,width=28).place(x=150,y=25)\n",
    "\n",
    "recommended_var = tk.Variable(app)\n",
    "recommended_var.set('Type movie name')\n",
    "tk.Label(app,textvariable=recommended_var).place(x=150,y=100)\n",
    "\n",
    "also_try_var = tk.Variable(app)\n",
    "also_try_var.set('Type movie name..')\n",
    "tk.Label(app,textvariable=also_try_var).place(x=150,y=125)\n",
    "\n",
    "def find_recommendation():\n",
    "    movie = movie_var.get().lower().strip()\n",
    "    try:\n",
    "        movie = df1['title'][df1['title'].apply(lambda x: movie in x.lower())].values[0]\n",
    "        movie_var.set(movie)\n",
    "    except IndexError:\n",
    "        recommended_var.set('Movie not found')\n",
    "        also_try_var.set('Movie not found')\n",
    "    else:\n",
    "        corr = pd.DataFrame(moviemat.corrwith(moviemat[movie]),columns=['Correlation'])\n",
    "        corr.dropna(inplace=True)\n",
    "        corr = corr.join(ratings['num of ratings'])\n",
    "        recommended_var.set(corr[(corr['num of ratings']>100)&(corr['Correlation']>0.4)].sort_values('Correlation',ascending=False).index[1])\n",
    "        also_try_var.set(corr[corr['Correlation']>0.4].sort_values('Correlation',ascending=False).index[0])\n",
    "        \n",
    "\n",
    "tk.Button(app,text='Find Suggestion',command=find_recommendation).place(x=125,y=60)\n",
    "\n",
    "app.mainloop()"
   ]
  },
  {
   "cell_type": "code",
   "execution_count": null,
   "id": "7a0b5f17",
   "metadata": {},
   "outputs": [],
   "source": []
  }
 ],
 "metadata": {
  "kernelspec": {
   "display_name": "Python 3",
   "language": "python",
   "name": "python3"
  },
  "language_info": {
   "codemirror_mode": {
    "name": "ipython",
    "version": 3
   },
   "file_extension": ".py",
   "mimetype": "text/x-python",
   "name": "python",
   "nbconvert_exporter": "python",
   "pygments_lexer": "ipython3",
   "version": "3.8.8"
  }
 },
 "nbformat": 4,
 "nbformat_minor": 5
}
